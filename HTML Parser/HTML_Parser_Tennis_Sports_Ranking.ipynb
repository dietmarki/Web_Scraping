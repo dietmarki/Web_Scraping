{
 "cells": [
  {
   "cell_type": "markdown",
   "id": "66bab6a3",
   "metadata": {},
   "source": [
    "\n",
    "# Webscraping - HTML Parser --> fetching one table data\n"
   ]
  },
  {
   "cell_type": "code",
   "execution_count": 1,
   "id": "4a3d8648",
   "metadata": {},
   "outputs": [
    {
     "name": "stdout",
     "output_type": "stream",
     "text": [
      "User-agent: *\n",
      "\n"
     ]
    }
   ],
   "source": [
    "\n",
    "# Let's look at robots.txt to see if any of the website's pages are prohibited from requesting.\n",
    "import os\n",
    "print(os.popen(\"curl https://www.tennismagazin.de/robots.txt\").read())\n"
   ]
  },
  {
   "cell_type": "code",
   "execution_count": 2,
   "id": "e1b50fcb",
   "metadata": {},
   "outputs": [],
   "source": [
    "\n",
    "# importing libraries:\n",
    "import numpy as np\n",
    "import pandas as pd\n",
    "import warnings\n",
    "warnings.filterwarnings(\"ignore\")\n",
    "from bs4 import BeautifulSoup\n",
    "import requests\n",
    "import re\n"
   ]
  },
  {
   "cell_type": "code",
   "execution_count": 3,
   "id": "61066e8e",
   "metadata": {},
   "outputs": [
    {
     "name": "stdout",
     "output_type": "stream",
     "text": [
      "Scraping successful! 200 = 200\n"
     ]
    }
   ],
   "source": [
    "\n",
    "# create a request to a tennis sports website with the response:\n",
    "#             scraping from the link (url) --> getting the data:\n",
    "try:\n",
    "    url = 'https://www.tennismagazin.de/tennis-weltrangliste-herren/'\n",
    "    resp = requests.get(url)\n",
    "    print(\"Scraping successful! 200 =\",resp.status_code)\n",
    "except:\n",
    "    print(\"Sorry, Scraping didn't work!\")\n"
   ]
  },
  {
   "cell_type": "code",
   "execution_count": 4,
   "id": "25a0d440",
   "metadata": {},
   "outputs": [],
   "source": [
    "\n",
    "# parse web data\n",
    "soup = BeautifulSoup(resp.content, \"html.parser\")\n"
   ]
  },
  {
   "cell_type": "code",
   "execution_count": 5,
   "id": "1052bad7",
   "metadata": {},
   "outputs": [],
   "source": [
    "\n",
    "# find the table\n",
    "\n",
    "# getting the table head because it may contains headings --> column names:\n",
    "html_thead = soup.find_all('thead')[0]\n",
    "# getting all the rows (cells) in table head:\n",
    "html_tr = html_thead.find_all('tr')\n",
    "# create a list of the column names:\n",
    "for t in html_tr:\n",
    "    #get the table headings\n",
    "    th = (t.find_all('th'))\n",
    "    #single values for the list of column names:\n",
    "    headings = [s.text for s in th]\n"
   ]
  },
  {
   "cell_type": "code",
   "execution_count": 6,
   "id": "7624e8dc",
   "metadata": {},
   "outputs": [
    {
     "data": {
      "text/plain": [
       "<thead><tr><th>Rang</th><th>Veränderung</th><th>Name</th><th>Alter</th><th>Punkte</th><th>Turniere</th></tr></thead>"
      ]
     },
     "execution_count": 6,
     "metadata": {},
     "output_type": "execute_result"
    }
   ],
   "source": [
    "html_thead"
   ]
  },
  {
   "cell_type": "code",
   "execution_count": 7,
   "id": "5fe26f4a",
   "metadata": {},
   "outputs": [
    {
     "data": {
      "text/plain": [
       "['Rang', 'Veränderung', 'Name', 'Alter', 'Punkte', 'Turniere']"
      ]
     },
     "execution_count": 7,
     "metadata": {},
     "output_type": "execute_result"
    }
   ],
   "source": [
    "headings"
   ]
  },
  {
   "cell_type": "code",
   "execution_count": 8,
   "id": "57d624f1",
   "metadata": {},
   "outputs": [],
   "source": [
    "\n",
    "# find the body\n",
    "\n",
    "# getting the table body:\n",
    "tbody = soup.table\n",
    "html_text = tbody.contents\n",
    "# getting all the rows (cells) in table body:\n",
    "# list to store all content\n",
    "content = []\n",
    "\n",
    "# loop through table body\n",
    "for tr in html_text:\n",
    "    # getting all th, td (titles and data)\n",
    "    th = tr.find_all(['th','td'])\n",
    "    # storing all th value in row and removing white space\n",
    "    row = [i.text.strip() for i in th]\n",
    "    # append content \n",
    "    content.append(row)\n"
   ]
  },
  {
   "cell_type": "code",
   "execution_count": 9,
   "id": "794d2802",
   "metadata": {},
   "outputs": [
    {
     "data": {
      "text/plain": [
       "[['Rang', 'Veränderung', 'Name', 'Alter', 'Punkte', 'Turniere'],\n",
       " ['1', '', 'Novak Djokovic', '36', '11.055', '19'],\n",
       " ['2', '', 'Carlos Alcaraz', '20', '8.855', '18'],\n",
       " ['3', '', 'Daniil Medvedev', '27', '7.555', '21'],\n",
       " ['4', '', 'Jannik Sinner', '22', '6.490', '22']]"
      ]
     },
     "execution_count": 9,
     "metadata": {},
     "output_type": "execute_result"
    }
   ],
   "source": [
    "content[:5]"
   ]
  },
  {
   "cell_type": "code",
   "execution_count": 10,
   "id": "6bc52b73",
   "metadata": {},
   "outputs": [
    {
     "data": {
      "text/plain": [
       "<tr><td>1</td><td><span></span></td><td><label style=\"cursor:default;\"><span class=\"flag-icon flag-icon-rs\"></span> <a href=\"https://www.tennismagazin.de/profil/herren/novak-djokovic/\">Novak Djokovic</a></label></td><td>36</td><td>11.055</td><td>19</td></tr>"
      ]
     },
     "execution_count": 10,
     "metadata": {},
     "output_type": "execute_result"
    }
   ],
   "source": [
    "html_text[1]"
   ]
  },
  {
   "cell_type": "code",
   "execution_count": 11,
   "id": "2e71db2b",
   "metadata": {},
   "outputs": [],
   "source": [
    "\n",
    "# create a dataframe:\n",
    "df01 = pd.DataFrame(content[1:],columns=headings)\n"
   ]
  },
  {
   "cell_type": "code",
   "execution_count": 12,
   "id": "2afb3214",
   "metadata": {},
   "outputs": [
    {
     "data": {
      "text/plain": [
       "(100, 6)"
      ]
     },
     "execution_count": 12,
     "metadata": {},
     "output_type": "execute_result"
    }
   ],
   "source": [
    "\n",
    "# dataframe with 6 features and 100 samples:\n",
    "df01.shape\n"
   ]
  },
  {
   "cell_type": "code",
   "execution_count": 13,
   "id": "b2571369",
   "metadata": {},
   "outputs": [
    {
     "data": {
      "text/html": [
       "<div>\n",
       "<style scoped>\n",
       "    .dataframe tbody tr th:only-of-type {\n",
       "        vertical-align: middle;\n",
       "    }\n",
       "\n",
       "    .dataframe tbody tr th {\n",
       "        vertical-align: top;\n",
       "    }\n",
       "\n",
       "    .dataframe thead th {\n",
       "        text-align: right;\n",
       "    }\n",
       "</style>\n",
       "<table border=\"1\" class=\"dataframe\">\n",
       "  <thead>\n",
       "    <tr style=\"text-align: right;\">\n",
       "      <th></th>\n",
       "      <th>Rang</th>\n",
       "      <th>Veränderung</th>\n",
       "      <th>Name</th>\n",
       "      <th>Alter</th>\n",
       "      <th>Punkte</th>\n",
       "      <th>Turniere</th>\n",
       "    </tr>\n",
       "  </thead>\n",
       "  <tbody>\n",
       "    <tr>\n",
       "      <th>0</th>\n",
       "      <td>1</td>\n",
       "      <td></td>\n",
       "      <td>Novak Djokovic</td>\n",
       "      <td>36</td>\n",
       "      <td>11.055</td>\n",
       "      <td>19</td>\n",
       "    </tr>\n",
       "    <tr>\n",
       "      <th>1</th>\n",
       "      <td>2</td>\n",
       "      <td></td>\n",
       "      <td>Carlos Alcaraz</td>\n",
       "      <td>20</td>\n",
       "      <td>8.855</td>\n",
       "      <td>18</td>\n",
       "    </tr>\n",
       "    <tr>\n",
       "      <th>2</th>\n",
       "      <td>3</td>\n",
       "      <td></td>\n",
       "      <td>Daniil Medvedev</td>\n",
       "      <td>27</td>\n",
       "      <td>7.555</td>\n",
       "      <td>21</td>\n",
       "    </tr>\n",
       "    <tr>\n",
       "      <th>3</th>\n",
       "      <td>4</td>\n",
       "      <td></td>\n",
       "      <td>Jannik Sinner</td>\n",
       "      <td>22</td>\n",
       "      <td>6.490</td>\n",
       "      <td>22</td>\n",
       "    </tr>\n",
       "    <tr>\n",
       "      <th>4</th>\n",
       "      <td>5</td>\n",
       "      <td></td>\n",
       "      <td>Andrey Rublev</td>\n",
       "      <td>26</td>\n",
       "      <td>5.010</td>\n",
       "      <td>25</td>\n",
       "    </tr>\n",
       "    <tr>\n",
       "      <th>...</th>\n",
       "      <td>...</td>\n",
       "      <td>...</td>\n",
       "      <td>...</td>\n",
       "      <td>...</td>\n",
       "      <td>...</td>\n",
       "      <td>...</td>\n",
       "    </tr>\n",
       "    <tr>\n",
       "      <th>95</th>\n",
       "      <td>96</td>\n",
       "      <td>+20</td>\n",
       "      <td>James Duckworth</td>\n",
       "      <td>31</td>\n",
       "      <td>628</td>\n",
       "      <td>26</td>\n",
       "    </tr>\n",
       "    <tr>\n",
       "      <th>96</th>\n",
       "      <td>97</td>\n",
       "      <td>-1</td>\n",
       "      <td>Arthur Rinderknech</td>\n",
       "      <td>28</td>\n",
       "      <td>626</td>\n",
       "      <td>28</td>\n",
       "    </tr>\n",
       "    <tr>\n",
       "      <th>97</th>\n",
       "      <td>98</td>\n",
       "      <td>-7</td>\n",
       "      <td>Maximilian Marterer</td>\n",
       "      <td>28</td>\n",
       "      <td>626</td>\n",
       "      <td>21</td>\n",
       "    </tr>\n",
       "    <tr>\n",
       "      <th>98</th>\n",
       "      <td>99</td>\n",
       "      <td>+5</td>\n",
       "      <td>Hugo Gaston</td>\n",
       "      <td>23</td>\n",
       "      <td>626</td>\n",
       "      <td>29</td>\n",
       "    </tr>\n",
       "    <tr>\n",
       "      <th>99</th>\n",
       "      <td>100</td>\n",
       "      <td>+8</td>\n",
       "      <td>Liam Broady</td>\n",
       "      <td>30</td>\n",
       "      <td>621</td>\n",
       "      <td>27</td>\n",
       "    </tr>\n",
       "  </tbody>\n",
       "</table>\n",
       "<p>100 rows × 6 columns</p>\n",
       "</div>"
      ],
      "text/plain": [
       "   Rang Veränderung                 Name Alter  Punkte Turniere\n",
       "0     1                   Novak Djokovic    36  11.055       19\n",
       "1     2                   Carlos Alcaraz    20   8.855       18\n",
       "2     3                  Daniil Medvedev    27   7.555       21\n",
       "3     4                    Jannik Sinner    22   6.490       22\n",
       "4     5                    Andrey Rublev    26   5.010       25\n",
       "..  ...         ...                  ...   ...     ...      ...\n",
       "95   96         +20      James Duckworth    31     628       26\n",
       "96   97          -1   Arthur Rinderknech    28     626       28\n",
       "97   98          -7  Maximilian Marterer    28     626       21\n",
       "98   99          +5          Hugo Gaston    23     626       29\n",
       "99  100          +8          Liam Broady    30     621       27\n",
       "\n",
       "[100 rows x 6 columns]"
      ]
     },
     "execution_count": 13,
     "metadata": {},
     "output_type": "execute_result"
    }
   ],
   "source": [
    "df01"
   ]
  },
  {
   "cell_type": "code",
   "execution_count": 14,
   "id": "425772e6",
   "metadata": {},
   "outputs": [
    {
     "data": {
      "text/plain": [
       "Index(['Rang', 'Veränderung', 'Name', 'Alter', 'Punkte', 'Turniere'], dtype='object')"
      ]
     },
     "execution_count": 14,
     "metadata": {},
     "output_type": "execute_result"
    }
   ],
   "source": [
    "\n",
    "df01.columns\n"
   ]
  },
  {
   "cell_type": "code",
   "execution_count": 15,
   "id": "8c48701f",
   "metadata": {},
   "outputs": [],
   "source": [
    "\n",
    "# changing the column names:\n",
    "df01 = df01.rename(columns={'Rang':'Ranking', 'Veränderung':'Ranking_Change', 'Name':'Players_Name',\n",
    "                            'Alter':'Age', 'Punkte':'Points', 'Turniere':'Tournaments'})\n"
   ]
  },
  {
   "cell_type": "code",
   "execution_count": 16,
   "id": "3a1f79a6",
   "metadata": {},
   "outputs": [
    {
     "data": {
      "text/html": [
       "<div>\n",
       "<style scoped>\n",
       "    .dataframe tbody tr th:only-of-type {\n",
       "        vertical-align: middle;\n",
       "    }\n",
       "\n",
       "    .dataframe tbody tr th {\n",
       "        vertical-align: top;\n",
       "    }\n",
       "\n",
       "    .dataframe thead th {\n",
       "        text-align: right;\n",
       "    }\n",
       "</style>\n",
       "<table border=\"1\" class=\"dataframe\">\n",
       "  <thead>\n",
       "    <tr style=\"text-align: right;\">\n",
       "      <th></th>\n",
       "      <th>Ranking</th>\n",
       "      <th>Ranking_Change</th>\n",
       "      <th>Players_Name</th>\n",
       "      <th>Age</th>\n",
       "      <th>Points</th>\n",
       "      <th>Tournaments</th>\n",
       "    </tr>\n",
       "  </thead>\n",
       "  <tbody>\n",
       "    <tr>\n",
       "      <th>0</th>\n",
       "      <td>1</td>\n",
       "      <td></td>\n",
       "      <td>Novak Djokovic</td>\n",
       "      <td>36</td>\n",
       "      <td>11.055</td>\n",
       "      <td>19</td>\n",
       "    </tr>\n",
       "    <tr>\n",
       "      <th>1</th>\n",
       "      <td>2</td>\n",
       "      <td></td>\n",
       "      <td>Carlos Alcaraz</td>\n",
       "      <td>20</td>\n",
       "      <td>8.855</td>\n",
       "      <td>18</td>\n",
       "    </tr>\n",
       "    <tr>\n",
       "      <th>2</th>\n",
       "      <td>3</td>\n",
       "      <td></td>\n",
       "      <td>Daniil Medvedev</td>\n",
       "      <td>27</td>\n",
       "      <td>7.555</td>\n",
       "      <td>21</td>\n",
       "    </tr>\n",
       "    <tr>\n",
       "      <th>3</th>\n",
       "      <td>4</td>\n",
       "      <td></td>\n",
       "      <td>Jannik Sinner</td>\n",
       "      <td>22</td>\n",
       "      <td>6.490</td>\n",
       "      <td>22</td>\n",
       "    </tr>\n",
       "    <tr>\n",
       "      <th>4</th>\n",
       "      <td>5</td>\n",
       "      <td></td>\n",
       "      <td>Andrey Rublev</td>\n",
       "      <td>26</td>\n",
       "      <td>5.010</td>\n",
       "      <td>25</td>\n",
       "    </tr>\n",
       "  </tbody>\n",
       "</table>\n",
       "</div>"
      ],
      "text/plain": [
       "  Ranking Ranking_Change     Players_Name Age  Points Tournaments\n",
       "0       1                  Novak Djokovic  36  11.055          19\n",
       "1       2                  Carlos Alcaraz  20   8.855          18\n",
       "2       3                 Daniil Medvedev  27   7.555          21\n",
       "3       4                   Jannik Sinner  22   6.490          22\n",
       "4       5                   Andrey Rublev  26   5.010          25"
      ]
     },
     "execution_count": 16,
     "metadata": {},
     "output_type": "execute_result"
    }
   ],
   "source": [
    "\n",
    "df01[:5]\n"
   ]
  },
  {
   "cell_type": "code",
   "execution_count": 17,
   "id": "6e550cc4",
   "metadata": {},
   "outputs": [
    {
     "data": {
      "text/plain": [
       "Ranking           0\n",
       "Ranking_Change    0\n",
       "Players_Name      0\n",
       "Age               0\n",
       "Points            0\n",
       "Tournaments       0\n",
       "dtype: int64"
      ]
     },
     "execution_count": 17,
     "metadata": {},
     "output_type": "execute_result"
    }
   ],
   "source": [
    "\n",
    "#df01[['Ranking','Ranking_Change','Players_Name','Age','Points','Tournaments']].value_counts()\n",
    "# no null values exist:\n",
    "df01.isnull().sum()\n"
   ]
  },
  {
   "cell_type": "code",
   "execution_count": 18,
   "id": "08de6000",
   "metadata": {},
   "outputs": [],
   "source": [
    "\n",
    "# no Ranking_Change get the value 0:\n",
    "df01[\"Ranking_Change\"].replace({\"\": \"0\"},inplace=True)\n"
   ]
  },
  {
   "cell_type": "code",
   "execution_count": 19,
   "id": "23b1f5e4",
   "metadata": {},
   "outputs": [
    {
     "data": {
      "text/html": [
       "<div>\n",
       "<style scoped>\n",
       "    .dataframe tbody tr th:only-of-type {\n",
       "        vertical-align: middle;\n",
       "    }\n",
       "\n",
       "    .dataframe tbody tr th {\n",
       "        vertical-align: top;\n",
       "    }\n",
       "\n",
       "    .dataframe thead th {\n",
       "        text-align: right;\n",
       "    }\n",
       "</style>\n",
       "<table border=\"1\" class=\"dataframe\">\n",
       "  <thead>\n",
       "    <tr style=\"text-align: right;\">\n",
       "      <th></th>\n",
       "      <th>Ranking</th>\n",
       "      <th>Ranking_Change</th>\n",
       "      <th>Players_Name</th>\n",
       "      <th>Age</th>\n",
       "      <th>Points</th>\n",
       "      <th>Tournaments</th>\n",
       "    </tr>\n",
       "  </thead>\n",
       "  <tbody>\n",
       "    <tr>\n",
       "      <th>0</th>\n",
       "      <td>1</td>\n",
       "      <td>0</td>\n",
       "      <td>Novak Djokovic</td>\n",
       "      <td>36</td>\n",
       "      <td>11.055</td>\n",
       "      <td>19</td>\n",
       "    </tr>\n",
       "    <tr>\n",
       "      <th>1</th>\n",
       "      <td>2</td>\n",
       "      <td>0</td>\n",
       "      <td>Carlos Alcaraz</td>\n",
       "      <td>20</td>\n",
       "      <td>8.855</td>\n",
       "      <td>18</td>\n",
       "    </tr>\n",
       "    <tr>\n",
       "      <th>2</th>\n",
       "      <td>3</td>\n",
       "      <td>0</td>\n",
       "      <td>Daniil Medvedev</td>\n",
       "      <td>27</td>\n",
       "      <td>7.555</td>\n",
       "      <td>21</td>\n",
       "    </tr>\n",
       "    <tr>\n",
       "      <th>3</th>\n",
       "      <td>4</td>\n",
       "      <td>0</td>\n",
       "      <td>Jannik Sinner</td>\n",
       "      <td>22</td>\n",
       "      <td>6.490</td>\n",
       "      <td>22</td>\n",
       "    </tr>\n",
       "    <tr>\n",
       "      <th>4</th>\n",
       "      <td>5</td>\n",
       "      <td>0</td>\n",
       "      <td>Andrey Rublev</td>\n",
       "      <td>26</td>\n",
       "      <td>5.010</td>\n",
       "      <td>25</td>\n",
       "    </tr>\n",
       "    <tr>\n",
       "      <th>...</th>\n",
       "      <td>...</td>\n",
       "      <td>...</td>\n",
       "      <td>...</td>\n",
       "      <td>...</td>\n",
       "      <td>...</td>\n",
       "      <td>...</td>\n",
       "    </tr>\n",
       "    <tr>\n",
       "      <th>95</th>\n",
       "      <td>96</td>\n",
       "      <td>+20</td>\n",
       "      <td>James Duckworth</td>\n",
       "      <td>31</td>\n",
       "      <td>628</td>\n",
       "      <td>26</td>\n",
       "    </tr>\n",
       "    <tr>\n",
       "      <th>96</th>\n",
       "      <td>97</td>\n",
       "      <td>-1</td>\n",
       "      <td>Arthur Rinderknech</td>\n",
       "      <td>28</td>\n",
       "      <td>626</td>\n",
       "      <td>28</td>\n",
       "    </tr>\n",
       "    <tr>\n",
       "      <th>97</th>\n",
       "      <td>98</td>\n",
       "      <td>-7</td>\n",
       "      <td>Maximilian Marterer</td>\n",
       "      <td>28</td>\n",
       "      <td>626</td>\n",
       "      <td>21</td>\n",
       "    </tr>\n",
       "    <tr>\n",
       "      <th>98</th>\n",
       "      <td>99</td>\n",
       "      <td>+5</td>\n",
       "      <td>Hugo Gaston</td>\n",
       "      <td>23</td>\n",
       "      <td>626</td>\n",
       "      <td>29</td>\n",
       "    </tr>\n",
       "    <tr>\n",
       "      <th>99</th>\n",
       "      <td>100</td>\n",
       "      <td>+8</td>\n",
       "      <td>Liam Broady</td>\n",
       "      <td>30</td>\n",
       "      <td>621</td>\n",
       "      <td>27</td>\n",
       "    </tr>\n",
       "  </tbody>\n",
       "</table>\n",
       "<p>100 rows × 6 columns</p>\n",
       "</div>"
      ],
      "text/plain": [
       "   Ranking Ranking_Change         Players_Name Age  Points Tournaments\n",
       "0        1              0       Novak Djokovic  36  11.055          19\n",
       "1        2              0       Carlos Alcaraz  20   8.855          18\n",
       "2        3              0      Daniil Medvedev  27   7.555          21\n",
       "3        4              0        Jannik Sinner  22   6.490          22\n",
       "4        5              0        Andrey Rublev  26   5.010          25\n",
       "..     ...            ...                  ...  ..     ...         ...\n",
       "95      96            +20      James Duckworth  31     628          26\n",
       "96      97             -1   Arthur Rinderknech  28     626          28\n",
       "97      98             -7  Maximilian Marterer  28     626          21\n",
       "98      99             +5          Hugo Gaston  23     626          29\n",
       "99     100             +8          Liam Broady  30     621          27\n",
       "\n",
       "[100 rows x 6 columns]"
      ]
     },
     "execution_count": 19,
     "metadata": {},
     "output_type": "execute_result"
    }
   ],
   "source": [
    "df01"
   ]
  },
  {
   "cell_type": "code",
   "execution_count": 20,
   "id": "ea995f95",
   "metadata": {},
   "outputs": [],
   "source": [
    "\n",
    "# convert categorical data to numeric --> ints/floats:\n",
    "df01.Ranking = df01.Ranking.astype(int)\n",
    "df01.Ranking_Change = df01.Ranking_Change.astype(int)\n",
    "df01.Age = df01.Age.astype(int)\n",
    "df01.Tournaments = df01.Tournaments.astype(int)\n"
   ]
  },
  {
   "cell_type": "code",
   "execution_count": 21,
   "id": "9d22e8c6",
   "metadata": {},
   "outputs": [],
   "source": [
    "\n",
    "# remove the points in the numbers of points:\n",
    "df01.Points = [i.replace(\".\",\"\") for i in df01.Points]\n"
   ]
  },
  {
   "cell_type": "code",
   "execution_count": 22,
   "id": "9b130abf",
   "metadata": {},
   "outputs": [],
   "source": [
    "\n",
    "# categorical to numeric in the feature Points:\n",
    "df01.Points = df01.Points.astype(int)\n"
   ]
  },
  {
   "cell_type": "code",
   "execution_count": 23,
   "id": "aea5acc6",
   "metadata": {},
   "outputs": [
    {
     "name": "stdout",
     "output_type": "stream",
     "text": [
      "<class 'pandas.core.frame.DataFrame'>\n",
      "RangeIndex: 100 entries, 0 to 99\n",
      "Data columns (total 6 columns):\n",
      " #   Column          Non-Null Count  Dtype \n",
      "---  ------          --------------  ----- \n",
      " 0   Ranking         100 non-null    int32 \n",
      " 1   Ranking_Change  100 non-null    int32 \n",
      " 2   Players_Name    100 non-null    object\n",
      " 3   Age             100 non-null    int32 \n",
      " 4   Points          100 non-null    int32 \n",
      " 5   Tournaments     100 non-null    int32 \n",
      "dtypes: int32(5), object(1)\n",
      "memory usage: 2.9+ KB\n"
     ]
    }
   ],
   "source": [
    "df01.info()"
   ]
  },
  {
   "cell_type": "code",
   "execution_count": 24,
   "id": "a263b548",
   "metadata": {},
   "outputs": [
    {
     "data": {
      "text/html": [
       "<div>\n",
       "<style scoped>\n",
       "    .dataframe tbody tr th:only-of-type {\n",
       "        vertical-align: middle;\n",
       "    }\n",
       "\n",
       "    .dataframe tbody tr th {\n",
       "        vertical-align: top;\n",
       "    }\n",
       "\n",
       "    .dataframe thead th {\n",
       "        text-align: right;\n",
       "    }\n",
       "</style>\n",
       "<table border=\"1\" class=\"dataframe\">\n",
       "  <thead>\n",
       "    <tr style=\"text-align: right;\">\n",
       "      <th></th>\n",
       "      <th>Ranking</th>\n",
       "      <th>Ranking_Change</th>\n",
       "      <th>Age</th>\n",
       "      <th>Points</th>\n",
       "      <th>Tournaments</th>\n",
       "    </tr>\n",
       "  </thead>\n",
       "  <tbody>\n",
       "    <tr>\n",
       "      <th>count</th>\n",
       "      <td>100.000000</td>\n",
       "      <td>100.00000</td>\n",
       "      <td>100.000000</td>\n",
       "      <td>100.000000</td>\n",
       "      <td>100.000000</td>\n",
       "    </tr>\n",
       "    <tr>\n",
       "      <th>mean</th>\n",
       "      <td>50.500000</td>\n",
       "      <td>0.67000</td>\n",
       "      <td>26.870000</td>\n",
       "      <td>1555.010000</td>\n",
       "      <td>25.750000</td>\n",
       "    </tr>\n",
       "    <tr>\n",
       "      <th>std</th>\n",
       "      <td>29.011492</td>\n",
       "      <td>5.00314</td>\n",
       "      <td>4.196331</td>\n",
       "      <td>1695.051631</td>\n",
       "      <td>3.599593</td>\n",
       "    </tr>\n",
       "    <tr>\n",
       "      <th>min</th>\n",
       "      <td>1.000000</td>\n",
       "      <td>-19.00000</td>\n",
       "      <td>19.000000</td>\n",
       "      <td>621.000000</td>\n",
       "      <td>18.000000</td>\n",
       "    </tr>\n",
       "    <tr>\n",
       "      <th>25%</th>\n",
       "      <td>25.750000</td>\n",
       "      <td>-1.00000</td>\n",
       "      <td>24.000000</td>\n",
       "      <td>736.500000</td>\n",
       "      <td>23.000000</td>\n",
       "    </tr>\n",
       "    <tr>\n",
       "      <th>50%</th>\n",
       "      <td>50.500000</td>\n",
       "      <td>0.00000</td>\n",
       "      <td>26.000000</td>\n",
       "      <td>918.500000</td>\n",
       "      <td>26.000000</td>\n",
       "    </tr>\n",
       "    <tr>\n",
       "      <th>75%</th>\n",
       "      <td>75.250000</td>\n",
       "      <td>3.00000</td>\n",
       "      <td>29.000000</td>\n",
       "      <td>1435.000000</td>\n",
       "      <td>28.000000</td>\n",
       "    </tr>\n",
       "    <tr>\n",
       "      <th>max</th>\n",
       "      <td>100.000000</td>\n",
       "      <td>20.00000</td>\n",
       "      <td>38.000000</td>\n",
       "      <td>11055.000000</td>\n",
       "      <td>34.000000</td>\n",
       "    </tr>\n",
       "  </tbody>\n",
       "</table>\n",
       "</div>"
      ],
      "text/plain": [
       "          Ranking  Ranking_Change         Age        Points  Tournaments\n",
       "count  100.000000       100.00000  100.000000    100.000000   100.000000\n",
       "mean    50.500000         0.67000   26.870000   1555.010000    25.750000\n",
       "std     29.011492         5.00314    4.196331   1695.051631     3.599593\n",
       "min      1.000000       -19.00000   19.000000    621.000000    18.000000\n",
       "25%     25.750000        -1.00000   24.000000    736.500000    23.000000\n",
       "50%     50.500000         0.00000   26.000000    918.500000    26.000000\n",
       "75%     75.250000         3.00000   29.000000   1435.000000    28.000000\n",
       "max    100.000000        20.00000   38.000000  11055.000000    34.000000"
      ]
     },
     "execution_count": 24,
     "metadata": {},
     "output_type": "execute_result"
    }
   ],
   "source": [
    "\n",
    "df01.describe()\n"
   ]
  },
  {
   "cell_type": "code",
   "execution_count": 25,
   "id": "ab4b222b",
   "metadata": {},
   "outputs": [
    {
     "data": {
      "text/html": [
       "<div>\n",
       "<style scoped>\n",
       "    .dataframe tbody tr th:only-of-type {\n",
       "        vertical-align: middle;\n",
       "    }\n",
       "\n",
       "    .dataframe tbody tr th {\n",
       "        vertical-align: top;\n",
       "    }\n",
       "\n",
       "    .dataframe thead th {\n",
       "        text-align: right;\n",
       "    }\n",
       "</style>\n",
       "<table border=\"1\" class=\"dataframe\">\n",
       "  <thead>\n",
       "    <tr style=\"text-align: right;\">\n",
       "      <th></th>\n",
       "      <th>Ranking</th>\n",
       "      <th>Ranking_Change</th>\n",
       "      <th>Players_Name</th>\n",
       "      <th>Age</th>\n",
       "      <th>Points</th>\n",
       "      <th>Tournaments</th>\n",
       "    </tr>\n",
       "  </thead>\n",
       "  <tbody>\n",
       "    <tr>\n",
       "      <th>0</th>\n",
       "      <td>1</td>\n",
       "      <td>0</td>\n",
       "      <td>Novak Djokovic</td>\n",
       "      <td>36</td>\n",
       "      <td>11055</td>\n",
       "      <td>19</td>\n",
       "    </tr>\n",
       "    <tr>\n",
       "      <th>1</th>\n",
       "      <td>2</td>\n",
       "      <td>0</td>\n",
       "      <td>Carlos Alcaraz</td>\n",
       "      <td>20</td>\n",
       "      <td>8855</td>\n",
       "      <td>18</td>\n",
       "    </tr>\n",
       "    <tr>\n",
       "      <th>2</th>\n",
       "      <td>3</td>\n",
       "      <td>0</td>\n",
       "      <td>Daniil Medvedev</td>\n",
       "      <td>27</td>\n",
       "      <td>7555</td>\n",
       "      <td>21</td>\n",
       "    </tr>\n",
       "    <tr>\n",
       "      <th>3</th>\n",
       "      <td>4</td>\n",
       "      <td>0</td>\n",
       "      <td>Jannik Sinner</td>\n",
       "      <td>22</td>\n",
       "      <td>6490</td>\n",
       "      <td>22</td>\n",
       "    </tr>\n",
       "    <tr>\n",
       "      <th>4</th>\n",
       "      <td>5</td>\n",
       "      <td>0</td>\n",
       "      <td>Andrey Rublev</td>\n",
       "      <td>26</td>\n",
       "      <td>5010</td>\n",
       "      <td>25</td>\n",
       "    </tr>\n",
       "    <tr>\n",
       "      <th>...</th>\n",
       "      <td>...</td>\n",
       "      <td>...</td>\n",
       "      <td>...</td>\n",
       "      <td>...</td>\n",
       "      <td>...</td>\n",
       "      <td>...</td>\n",
       "    </tr>\n",
       "    <tr>\n",
       "      <th>95</th>\n",
       "      <td>96</td>\n",
       "      <td>20</td>\n",
       "      <td>James Duckworth</td>\n",
       "      <td>31</td>\n",
       "      <td>628</td>\n",
       "      <td>26</td>\n",
       "    </tr>\n",
       "    <tr>\n",
       "      <th>96</th>\n",
       "      <td>97</td>\n",
       "      <td>-1</td>\n",
       "      <td>Arthur Rinderknech</td>\n",
       "      <td>28</td>\n",
       "      <td>626</td>\n",
       "      <td>28</td>\n",
       "    </tr>\n",
       "    <tr>\n",
       "      <th>97</th>\n",
       "      <td>98</td>\n",
       "      <td>-7</td>\n",
       "      <td>Maximilian Marterer</td>\n",
       "      <td>28</td>\n",
       "      <td>626</td>\n",
       "      <td>21</td>\n",
       "    </tr>\n",
       "    <tr>\n",
       "      <th>98</th>\n",
       "      <td>99</td>\n",
       "      <td>5</td>\n",
       "      <td>Hugo Gaston</td>\n",
       "      <td>23</td>\n",
       "      <td>626</td>\n",
       "      <td>29</td>\n",
       "    </tr>\n",
       "    <tr>\n",
       "      <th>99</th>\n",
       "      <td>100</td>\n",
       "      <td>8</td>\n",
       "      <td>Liam Broady</td>\n",
       "      <td>30</td>\n",
       "      <td>621</td>\n",
       "      <td>27</td>\n",
       "    </tr>\n",
       "  </tbody>\n",
       "</table>\n",
       "<p>100 rows × 6 columns</p>\n",
       "</div>"
      ],
      "text/plain": [
       "    Ranking  Ranking_Change         Players_Name  Age  Points  Tournaments\n",
       "0         1               0       Novak Djokovic   36   11055           19\n",
       "1         2               0       Carlos Alcaraz   20    8855           18\n",
       "2         3               0      Daniil Medvedev   27    7555           21\n",
       "3         4               0        Jannik Sinner   22    6490           22\n",
       "4         5               0        Andrey Rublev   26    5010           25\n",
       "..      ...             ...                  ...  ...     ...          ...\n",
       "95       96              20      James Duckworth   31     628           26\n",
       "96       97              -1   Arthur Rinderknech   28     626           28\n",
       "97       98              -7  Maximilian Marterer   28     626           21\n",
       "98       99               5          Hugo Gaston   23     626           29\n",
       "99      100               8          Liam Broady   30     621           27\n",
       "\n",
       "[100 rows x 6 columns]"
      ]
     },
     "execution_count": 25,
     "metadata": {},
     "output_type": "execute_result"
    }
   ],
   "source": [
    "\n",
    "df01\n"
   ]
  }
 ],
 "metadata": {
  "kernelspec": {
   "display_name": "Python 3 (ipykernel)",
   "language": "python",
   "name": "python3"
  },
  "language_info": {
   "codemirror_mode": {
    "name": "ipython",
    "version": 3
   },
   "file_extension": ".py",
   "mimetype": "text/x-python",
   "name": "python",
   "nbconvert_exporter": "python",
   "pygments_lexer": "ipython3",
   "version": "3.10.13"
  }
 },
 "nbformat": 4,
 "nbformat_minor": 5
}
