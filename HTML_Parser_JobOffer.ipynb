{
 "cells": [
  {
   "cell_type": "markdown",
   "id": "31694950",
   "metadata": {},
   "source": [
    "# HTML Parsers - Webscraping\n"
   ]
  },
  {
   "cell_type": "code",
   "execution_count": 1,
   "id": "a618e34c",
   "metadata": {},
   "outputs": [],
   "source": [
    "\n",
    "# one of the several ways of webscraping\n",
    "\n",
    "\n",
    "# HTML Parser Method: --> programs that parse HTML documents and extract the data from them.\n",
    "#                   They are usually used to access webpages and extract the content from them.\n"
   ]
  },
  {
   "cell_type": "code",
   "execution_count": 2,
   "id": "138e186e",
   "metadata": {},
   "outputs": [],
   "source": [
    "\n",
    "# importing libraries:\n",
    "import numpy as np\n",
    "import pandas as pd\n",
    "import matplotlib.pyplot as plt\n",
    "import seaborn as sns\n",
    "import warnings\n",
    "warnings.filterwarnings(\"ignore\")\n",
    "from bs4 import BeautifulSoup\n",
    "import requests\n",
    "import re\n",
    "from datetime import date\n",
    "pd.set_option('display.max_colwidth', 300)\n",
    "pd.set_option('display.pprint_nest_depth', 10)\n",
    "pd.set_option('display.width', None)\n"
   ]
  },
  {
   "cell_type": "code",
   "execution_count": 1,
   "id": "70fa5004",
   "metadata": {},
   "outputs": [
    {
     "name": "stdout",
     "output_type": "stream",
     "text": [
      "User-agent: BLEXBot\n",
      "Disallow: /\n",
      "\n",
      "User-agent: AhrefsBot\n",
      "Disallow: /\n",
      "\n",
      "User-agent: *\n",
      "Disallow:\n",
      "\n",
      "Sitemap: https://www.karriere.at/sitemaps-https.xml\n",
      "Sitemap: https://www.karriere.at/static/sitemaps/sitemap-arbeitgebersuche-https.xml\n",
      "Sitemap: https://www.karriere.at/static/sitemaps/sitemap-berufe-https.xml\n",
      "Sitemap: https://www.karriere.at/static/sitemaps/sitemap-brutto-netto-https.xml\n",
      "Sitemap: https://www.karriere.at/static/sitemaps/sitemap-firmen-https.xml\n",
      "Sitemap: https://www.karriere.at/static/sitemaps/sitemap-firmen-standorte-https.xml\n",
      "Sitemap: https://www.karriere.at/static/sitemaps/sitemap-firmen-bs-https.xml\n",
      "Sitemap: https://www.karriere.at/static/sitemaps/sitemap-firmen-bs-work-https.xml\n",
      "Sitemap: https://www.karriere.at/static/sitemaps/sitemap-firmen-bs-jobs-https.xml\n",
      "Sitemap: https://www.karriere.at/static/sitemaps/sitemap-gehalt-https.xml\n",
      "Sitemap: https://www.karriere.at/static/sitemaps/sitemap-jobs-https.xml\n",
      "Sitemap: https://www.karriere.at/hr/sitemaps-1-sitemap.xml\n",
      "Sitemap: https://www.karriere.at/sitemaps-2-sitemap.xml\n",
      "\n"
     ]
    }
   ],
   "source": [
    "\n",
    "# Let's look at robots.txt to see if any of the website's pages are prohibited from requesting.\n",
    "import os\n",
    "print(os.popen(\"curl https://www.karriere.at/robots.txt\").read())\n"
   ]
  },
  {
   "cell_type": "code",
   "execution_count": 3,
   "id": "145d3714",
   "metadata": {},
   "outputs": [],
   "source": [
    "\n",
    "# Sending HTTP Requests:\n",
    "# i use the requests library to send HTTP GET requests to the constructed URLs.\n",
    "# i check the status code of the response to ensure\n",
    "# that i receive a successful response (HTTP status code 200) before proceeding.\n"
   ]
  },
  {
   "cell_type": "code",
   "execution_count": 4,
   "id": "7235c99d",
   "metadata": {},
   "outputs": [
    {
     "name": "stdout",
     "output_type": "stream",
     "text": [
      "Scraping successful! 200 = 200\n"
     ]
    }
   ],
   "source": [
    "\n",
    "# create a request to a job market website with the response:\n",
    "try:\n",
    "    url = 'https://www.karriere.at/jobs?jobLevels%5B%5D=3954&jobLevels%5B%5D=3955&jobLevels%5B%5D=3956&jobLevels%5B%5D=3958&jobLevels%5B%5D=11972'\n",
    "    resp = requests.get(url)\n",
    "    print(\"Scraping successful! 200 =\",resp.status_code)\n",
    "except:\n",
    "    print(\"Sorry, Scraping didn't work!\")\n"
   ]
  },
  {
   "cell_type": "code",
   "execution_count": 5,
   "id": "9dc8cfcb",
   "metadata": {},
   "outputs": [],
   "source": [
    "\n",
    "# Parsing HTML Content:\n",
    "# Upon successful retrieval of a web page,\n",
    "# i use the BeautifulSoup library to parse the HTML content of the page.\n",
    "# This enabled me to navigate the page's structure and extract relevant information.\n"
   ]
  },
  {
   "cell_type": "code",
   "execution_count": 6,
   "id": "55c38d28",
   "metadata": {},
   "outputs": [],
   "source": [
    "\n",
    "# get the content of the html:\n",
    "soup = BeautifulSoup(resp.text,'html.parser')\n",
    "html = soup.find_all('div')\n"
   ]
  },
  {
   "cell_type": "code",
   "execution_count": 7,
   "id": "53cdcaa7",
   "metadata": {},
   "outputs": [],
   "source": [
    "\n",
    "# Extracting Data:\n",
    "# you have to know how to navigate the HTML of a website to get the required data,\n",
    "# stored in various classes.\n",
    "# In this case, i went to get the 'Job_Titles','Company_Names','Locations','Days_Online','Job_Descriptions'.\n",
    "# i also created a new column based on my existing data.\n"
   ]
  },
  {
   "cell_type": "code",
   "execution_count": 8,
   "id": "6015722b",
   "metadata": {},
   "outputs": [
    {
     "data": {
      "text/plain": [
       "['Hauswirtschafter*in (m/w/d)',\n",
       " 'Entwicklungsingenieur Maschinenbau (m/w/d)',\n",
       " 'Serviceassistenz (m/w/x)',\n",
       " 'Erfahrene:r Personalverrechner:in',\n",
       " 'Projektmanager IT-Projekte (m/w/x)']"
      ]
     },
     "execution_count": 8,
     "metadata": {},
     "output_type": "execute_result"
    }
   ],
   "source": [
    "\n",
    "# getting jobtitles:\n",
    "req = soup.select('div h2[class=\"m-jobsListItem__title\"]')\n",
    "#fetching the text from the html\n",
    "titles = [r.text for r in req]\n",
    "#Removing any spaces\n",
    "titles = [t.replace(\"  \", \"\") for t in titles]\n",
    "titles[:5]\n"
   ]
  },
  {
   "cell_type": "code",
   "execution_count": 9,
   "id": "734866c8",
   "metadata": {},
   "outputs": [],
   "source": [
    "\n",
    "# getting employer name:\n",
    "comp = soup.find_all('div',class_=\"m-jobsListItem__company\")\n",
    "#fetching the text from the HTML\n",
    "comp1 = [c.text for c in comp]\n",
    "#Removing any spaces\n",
    "comp1 = [c.strip() for c in comp1]\n"
   ]
  },
  {
   "cell_type": "code",
   "execution_count": 10,
   "id": "6826b329",
   "metadata": {},
   "outputs": [
    {
     "data": {
      "text/plain": [
       "['B. Braun Austria GmbH',\n",
       " 'Schunk Transit Systems GmbH',\n",
       " 'DENZEL Gruppe',\n",
       " 'G.L. Pharma GmbH',\n",
       " 'gemdatnoe Gemeinde-Datenservice GmbH']"
      ]
     },
     "execution_count": 10,
     "metadata": {},
     "output_type": "execute_result"
    }
   ],
   "source": [
    "\n",
    "comp1[:5]\n"
   ]
  },
  {
   "cell_type": "code",
   "execution_count": 11,
   "id": "7f09b59e",
   "metadata": {},
   "outputs": [],
   "source": [
    "\n",
    "# getting job locations:\n",
    "#fetching the HTML data from the class where the location data is available\n",
    "loc = soup.find_all('ul', class_='m-jobsListItem__locations')\n",
    "#fetching all the text from the HTML\n",
    "loc1 = [l.text for l in loc]\n",
    "#cleaning the locations --> removing the zip codes \n",
    "loc1 = [re.sub(\"[0-9]\",\"\",i) for i in loc1]\n",
    "#Removing any spaces\n",
    "loc1 = [l.strip() for l in loc1]\n"
   ]
  },
  {
   "cell_type": "code",
   "execution_count": 12,
   "id": "dd7f814c",
   "metadata": {},
   "outputs": [
    {
     "data": {
      "text/plain": [
       "['Innsbruck',\n",
       " 'Nußdorf am Haunsberg',\n",
       " 'Erdberg (Wien)',\n",
       " 'Lannach',\n",
       " 'Korneuburg']"
      ]
     },
     "execution_count": 12,
     "metadata": {},
     "output_type": "execute_result"
    }
   ],
   "source": [
    "\n",
    "loc1[:5]\n"
   ]
  },
  {
   "cell_type": "code",
   "execution_count": 13,
   "id": "dfb9b346",
   "metadata": {},
   "outputs": [
    {
     "data": {
      "text/plain": [
       "['5.1.2024', '5.1.2024', '5.1.2024', '5.1.2024', '5.1.2024']"
      ]
     },
     "execution_count": 13,
     "metadata": {},
     "output_type": "execute_result"
    }
   ],
   "source": [
    "\n",
    "# getting the dates:\n",
    "date0 = soup.find_all('span',class_=\"m-jobsListItem__date\")\n",
    "date1 = [d.text for d in date0]\n",
    "date1 = [re.sub(\"[a-m]\",\"\",i) for i in date1]\n",
    "date1 = [l.strip() for l in date1]\n",
    "date1[:5]\n"
   ]
  },
  {
   "cell_type": "code",
   "execution_count": 14,
   "id": "7064bbeb",
   "metadata": {},
   "outputs": [
    {
     "data": {
      "text/plain": [
       "['5', '1', '2024']"
      ]
     },
     "execution_count": 14,
     "metadata": {},
     "output_type": "execute_result"
    }
   ],
   "source": [
    "\n",
    "# converting the date to prepare the durations:\n",
    "date1[0].split(\".\")\n"
   ]
  },
  {
   "cell_type": "code",
   "execution_count": 15,
   "id": "cde0c107",
   "metadata": {},
   "outputs": [
    {
     "data": {
      "text/plain": [
       "[(2024, 1, 5), (2024, 1, 5), (2024, 1, 5), (2024, 1, 5), (2024, 1, 5)]"
      ]
     },
     "execution_count": 15,
     "metadata": {},
     "output_type": "execute_result"
    }
   ],
   "source": [
    "\n",
    "date2 = []\n",
    "for i in date1:\n",
    "    i = i.split(\".\")\n",
    "    date2.append((int(i[2]),int(i[1]),int(i[0])))\n",
    "    \n",
    "date2[:5]\n"
   ]
  },
  {
   "cell_type": "code",
   "execution_count": 16,
   "id": "40a7ee64",
   "metadata": {},
   "outputs": [
    {
     "data": {
      "text/plain": [
       "[datetime.date(2024, 1, 5),\n",
       " datetime.date(2024, 1, 5),\n",
       " datetime.date(2024, 1, 5),\n",
       " datetime.date(2024, 1, 5),\n",
       " datetime.date(2024, 1, 5)]"
      ]
     },
     "execution_count": 16,
     "metadata": {},
     "output_type": "execute_result"
    }
   ],
   "source": [
    "\n",
    "date3 = []\n",
    "for j in date2:\n",
    "    y = j[0]\n",
    "    m = j[1]\n",
    "    d = j[2]\n",
    "    date3.append(date(y,m,d))\n",
    "    \n",
    "date3[:5]\n"
   ]
  },
  {
   "cell_type": "code",
   "execution_count": 17,
   "id": "f07f7498",
   "metadata": {},
   "outputs": [
    {
     "data": {
      "text/plain": [
       "datetime.date(2024, 1, 5)"
      ]
     },
     "execution_count": 17,
     "metadata": {},
     "output_type": "execute_result"
    }
   ],
   "source": [
    "\n",
    "# for duration:\n",
    "date_today = date.today()\n",
    "date_today\n"
   ]
  },
  {
   "cell_type": "code",
   "execution_count": 18,
   "id": "294ec78a",
   "metadata": {},
   "outputs": [
    {
     "data": {
      "text/plain": [
       "[datetime.timedelta(0),\n",
       " datetime.timedelta(0),\n",
       " datetime.timedelta(0),\n",
       " datetime.timedelta(0),\n",
       " datetime.timedelta(0)]"
      ]
     },
     "execution_count": 18,
     "metadata": {},
     "output_type": "execute_result"
    }
   ],
   "source": [
    "days_online = []\n",
    "for l in date3:\n",
    "    days_online.append((date_today - l))\n",
    "    \n",
    "days_online[:5]"
   ]
  },
  {
   "cell_type": "code",
   "execution_count": 19,
   "id": "3dd7d03c",
   "metadata": {},
   "outputs": [
    {
     "data": {
      "text/plain": [
       "['Zur Verstärkung unseres Teams im Dialysezentrum Innsbruck (Franz-Fischer-Straße 13, 6020 Innsbruck) suchen wir ab sofort eine*n Hauswirtschafter*in im Ausmaß...',\n",
       " 'Ihre Aufgaben: Neuentwicklungen und Änderungskonstruktionen verantworten, Berechnung von Bauteilen und FEM-Analysen, Ableitung von Fertigungszeichnungen und Stücklisten, Durchführung von Versuchen...',\n",
       " 'Jetzt bewerben Serviceassistenz (m/w/x) DENZEL Erdberg, Wien, Fiat / Alfa Romeo / Jeep Festanstellung, Vollzeit ab sofort Sie suchen einen Job, bei dem Sie Ihre Leidenschaft für...',\n",
       " 'Ihre Hauptaufgaben: Verantwortung für die ordnungsgemäße und pünktliche Lohn- und Gehaltsabrechnung, Ansprechperson für Mitarbeitende, Führungskräfte und Behörden bei Fragen rund...',\n",
       " 'Projektmanager IT-Projekte (m/w/x) Modernste Technologie, erstklassige Produkte und überdurchschnittliches Engagement kennzeichnen unser Unternehmen. Die ausgezeichnete Stellung...']"
      ]
     },
     "execution_count": 19,
     "metadata": {},
     "output_type": "execute_result"
    }
   ],
   "source": [
    "\n",
    "# getting the short form of the job description: \n",
    "text = soup.find_all('p',class_=\"m-jobsListItem__snippet\")\n",
    "text1 = [t.text for t in text]\n",
    "#text1 = [re.sub(\"[a-m]\",\"\",i) for i in text1]\n",
    "text1 = [l.strip() for l in text1]\n",
    "text1[:5]\n"
   ]
  },
  {
   "cell_type": "code",
   "execution_count": 20,
   "id": "871f269d",
   "metadata": {},
   "outputs": [],
   "source": [
    "\n",
    "# create an dataframe with all the pieces of data in a dictionary:\n",
    "data = {'Job_Title':titles,'Company_Name':comp1,'Location':loc1,'Days_Online':days_online,'Job_Description':text1}\n",
    "df01 = pd.DataFrame(data)\n"
   ]
  },
  {
   "cell_type": "code",
   "execution_count": 21,
   "id": "d1dbbd8a",
   "metadata": {},
   "outputs": [
    {
     "data": {
      "text/plain": [
       "(15, 5)"
      ]
     },
     "execution_count": 21,
     "metadata": {},
     "output_type": "execute_result"
    }
   ],
   "source": [
    "\n",
    "df01.shape\n"
   ]
  },
  {
   "cell_type": "code",
   "execution_count": 22,
   "id": "47baaf96",
   "metadata": {},
   "outputs": [
    {
     "data": {
      "text/html": [
       "<div>\n",
       "<style scoped>\n",
       "    .dataframe tbody tr th:only-of-type {\n",
       "        vertical-align: middle;\n",
       "    }\n",
       "\n",
       "    .dataframe tbody tr th {\n",
       "        vertical-align: top;\n",
       "    }\n",
       "\n",
       "    .dataframe thead th {\n",
       "        text-align: right;\n",
       "    }\n",
       "</style>\n",
       "<table border=\"1\" class=\"dataframe\">\n",
       "  <thead>\n",
       "    <tr style=\"text-align: right;\">\n",
       "      <th></th>\n",
       "      <th>Job_Title</th>\n",
       "      <th>Company_Name</th>\n",
       "      <th>Location</th>\n",
       "      <th>Days_Online</th>\n",
       "      <th>Job_Description</th>\n",
       "    </tr>\n",
       "  </thead>\n",
       "  <tbody>\n",
       "    <tr>\n",
       "      <th>0</th>\n",
       "      <td>Hauswirtschafter*in (m/w/d)</td>\n",
       "      <td>B. Braun Austria GmbH</td>\n",
       "      <td>Innsbruck</td>\n",
       "      <td>0 days</td>\n",
       "      <td>Zur Verstärkung unseres Teams im Dialysezentrum Innsbruck (Franz-Fischer-Straße 13, 6020 Innsbruck) suchen wir ab sofort eine*n Hauswirtschafter*in im Ausmaß...</td>\n",
       "    </tr>\n",
       "    <tr>\n",
       "      <th>1</th>\n",
       "      <td>Entwicklungsingenieur Maschinenbau (m/w/d)</td>\n",
       "      <td>Schunk Transit Systems GmbH</td>\n",
       "      <td>Nußdorf am Haunsberg</td>\n",
       "      <td>0 days</td>\n",
       "      <td>Ihre Aufgaben: Neuentwicklungen und Änderungskonstruktionen verantworten, Berechnung von Bauteilen und FEM-Analysen, Ableitung von Fertigungszeichnungen und Stücklisten, Durchführung von Versuchen...</td>\n",
       "    </tr>\n",
       "    <tr>\n",
       "      <th>2</th>\n",
       "      <td>Serviceassistenz (m/w/x)</td>\n",
       "      <td>DENZEL Gruppe</td>\n",
       "      <td>Erdberg (Wien)</td>\n",
       "      <td>0 days</td>\n",
       "      <td>Jetzt bewerben Serviceassistenz (m/w/x) DENZEL Erdberg, Wien, Fiat / Alfa Romeo / Jeep Festanstellung, Vollzeit ab sofort Sie suchen einen Job, bei dem Sie Ihre Leidenschaft für...</td>\n",
       "    </tr>\n",
       "    <tr>\n",
       "      <th>3</th>\n",
       "      <td>Erfahrene:r Personalverrechner:in</td>\n",
       "      <td>G.L. Pharma GmbH</td>\n",
       "      <td>Lannach</td>\n",
       "      <td>0 days</td>\n",
       "      <td>Ihre Hauptaufgaben: Verantwortung für die ordnungsgemäße und pünktliche Lohn- und Gehaltsabrechnung, Ansprechperson für Mitarbeitende, Führungskräfte und Behörden bei Fragen rund...</td>\n",
       "    </tr>\n",
       "    <tr>\n",
       "      <th>4</th>\n",
       "      <td>Projektmanager IT-Projekte (m/w/x)</td>\n",
       "      <td>gemdatnoe Gemeinde-Datenservice GmbH</td>\n",
       "      <td>Korneuburg</td>\n",
       "      <td>0 days</td>\n",
       "      <td>Projektmanager IT-Projekte (m/w/x) Modernste Technologie, erstklassige Produkte und überdurchschnittliches Engagement kennzeichnen unser Unternehmen. Die ausgezeichnete Stellung...</td>\n",
       "    </tr>\n",
       "  </tbody>\n",
       "</table>\n",
       "</div>"
      ],
      "text/plain": [
       "                                    Job_Title  \\\n",
       "0                 Hauswirtschafter*in (m/w/d)   \n",
       "1  Entwicklungsingenieur Maschinenbau (m/w/d)   \n",
       "2                    Serviceassistenz (m/w/x)   \n",
       "3           Erfahrene:r Personalverrechner:in   \n",
       "4          Projektmanager IT-Projekte (m/w/x)   \n",
       "\n",
       "                           Company_Name              Location Days_Online  \\\n",
       "0                 B. Braun Austria GmbH             Innsbruck      0 days   \n",
       "1           Schunk Transit Systems GmbH  Nußdorf am Haunsberg      0 days   \n",
       "2                         DENZEL Gruppe        Erdberg (Wien)      0 days   \n",
       "3                      G.L. Pharma GmbH               Lannach      0 days   \n",
       "4  gemdatnoe Gemeinde-Datenservice GmbH            Korneuburg      0 days   \n",
       "\n",
       "                                                                                                                                                                                           Job_Description  \n",
       "0                                         Zur Verstärkung unseres Teams im Dialysezentrum Innsbruck (Franz-Fischer-Straße 13, 6020 Innsbruck) suchen wir ab sofort eine*n Hauswirtschafter*in im Ausmaß...  \n",
       "1  Ihre Aufgaben: Neuentwicklungen und Änderungskonstruktionen verantworten, Berechnung von Bauteilen und FEM-Analysen, Ableitung von Fertigungszeichnungen und Stücklisten, Durchführung von Versuchen...  \n",
       "2                     Jetzt bewerben Serviceassistenz (m/w/x) DENZEL Erdberg, Wien, Fiat / Alfa Romeo / Jeep Festanstellung, Vollzeit ab sofort Sie suchen einen Job, bei dem Sie Ihre Leidenschaft für...  \n",
       "3                    Ihre Hauptaufgaben: Verantwortung für die ordnungsgemäße und pünktliche Lohn- und Gehaltsabrechnung, Ansprechperson für Mitarbeitende, Führungskräfte und Behörden bei Fragen rund...  \n",
       "4                     Projektmanager IT-Projekte (m/w/x) Modernste Technologie, erstklassige Produkte und überdurchschnittliches Engagement kennzeichnen unser Unternehmen. Die ausgezeichnete Stellung...  "
      ]
     },
     "execution_count": 22,
     "metadata": {},
     "output_type": "execute_result"
    }
   ],
   "source": [
    "\n",
    "df01.head()\n"
   ]
  },
  {
   "cell_type": "code",
   "execution_count": null,
   "id": "b9e06d77",
   "metadata": {},
   "outputs": [],
   "source": []
  },
  {
   "cell_type": "code",
   "execution_count": null,
   "id": "8abaa5e6",
   "metadata": {},
   "outputs": [],
   "source": []
  },
  {
   "cell_type": "code",
   "execution_count": null,
   "id": "bc4361cc",
   "metadata": {},
   "outputs": [],
   "source": []
  }
 ],
 "metadata": {
  "kernelspec": {
   "display_name": "Python 3 (ipykernel)",
   "language": "python",
   "name": "python3"
  },
  "language_info": {
   "codemirror_mode": {
    "name": "ipython",
    "version": 3
   },
   "file_extension": ".py",
   "mimetype": "text/x-python",
   "name": "python",
   "nbconvert_exporter": "python",
   "pygments_lexer": "ipython3",
   "version": "3.10.13"
  }
 },
 "nbformat": 4,
 "nbformat_minor": 5
}
