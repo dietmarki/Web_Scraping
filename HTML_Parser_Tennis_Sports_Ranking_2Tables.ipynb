{
 "cells": [
  {
   "cell_type": "markdown",
   "id": "66bab6a3",
   "metadata": {},
   "source": [
    "\n",
    "# Webscraping - HTML Parser --> fetching several table data\n"
   ]
  },
  {
   "cell_type": "code",
   "execution_count": 1,
   "id": "4a3d8648",
   "metadata": {},
   "outputs": [
    {
     "name": "stdout",
     "output_type": "stream",
     "text": [
      "User-agent: *\n",
      "\n"
     ]
    }
   ],
   "source": [
    "\n",
    "# Let's look at robots.txt to see if any of the website's pages are prohibited from requesting.\n",
    "import os\n",
    "print(os.popen(\"curl https://www.tennismagazin.de/robots.txt\").read())\n"
   ]
  },
  {
   "cell_type": "code",
   "execution_count": 2,
   "id": "e1b50fcb",
   "metadata": {},
   "outputs": [],
   "source": [
    "\n",
    "# importing libraries:\n",
    "import numpy as np\n",
    "import pandas as pd\n",
    "import warnings\n",
    "warnings.filterwarnings(\"ignore\")\n",
    "from bs4 import BeautifulSoup\n",
    "import requests\n",
    "import re\n",
    "from datetime import date\n"
   ]
  },
  {
   "cell_type": "code",
   "execution_count": 4,
   "id": "61066e8e",
   "metadata": {},
   "outputs": [
    {
     "name": "stdout",
     "output_type": "stream",
     "text": [
      "Scraping successful! 200 = 200\n",
      "   Ranking  Ranking_Change      Players_Name  Age  Points  Tournaments\n",
      "0        1               0    Novak Djokovic   36   11055           19\n",
      "1        2               0    Carlos Alcaraz   20    8855           18\n",
      "2        3               0   Daniil Medvedev   27    7555           21\n",
      "3        4               0     Jannik Sinner   22    6490           22\n",
      "4        5               0     Andrey Rublev   26    5010           25\n",
      "Scraping successful! 200 = 200\n",
      "   Ranking  Ranking_Change      Players_Name  Age  Points  Tournaments\n",
      "0        1               0       Iga Swiatek   22    9880           19\n",
      "1        2               0   Aryna Sabalenka   25    8905           16\n",
      "2        3               1    Elena Rybakina   24    6811           18\n",
      "3        4              -1        Coco Gauff   19    6660           19\n",
      "4        5               0    Jessica Pegula   29    5905           20\n"
     ]
    }
   ],
   "source": [
    "\n",
    "# getting data from 2 sites:\n",
    "# https://www.tennismagazin.de/tennis-weltrangliste-herren/\n",
    "# https://www.tennismagazin.de/tennis-weltrangliste-der-damen/\n",
    "list_sites = [\"herren\",\"der-damen\"]\n",
    "\n",
    "for s in list_sites:\n",
    "    \n",
    "    # create a request to a tennis sports website with the response:\n",
    "    #             scraping from the link (url) --> getting the data:\n",
    "    try:\n",
    "        url = f'https://www.tennismagazin.de/tennis-weltrangliste-{s}/'\n",
    "        resp = requests.get(url)\n",
    "        print(\"Scraping successful! 200 =\",resp.status_code)\n",
    "    except:\n",
    "        print(\"Sorry, Scraping didn't work!\")\n",
    "        \n",
    "    # parse web data\n",
    "    soup = BeautifulSoup(resp.content, \"html.parser\")\n",
    "    \n",
    "    # find the table\n",
    "    # getting the table head because it may contains headings --> column names:\n",
    "    html_thead = soup.find_all('thead')[0]\n",
    "    # getting all the rows (cells) in table head:\n",
    "    html_tr = html_thead.find_all('tr')\n",
    "    # create a list of the column names:\n",
    "    for t in html_tr:\n",
    "        #get the table headings\n",
    "        th = (t.find_all('th'))\n",
    "        #single values for the list of column names:\n",
    "        headings = [s.text for s in th]\n",
    "        \n",
    "    # find the body\n",
    "    # getting the table body:\n",
    "    tbody = soup.table\n",
    "    html_text = tbody.contents\n",
    "    # getting all the rows (cells) in table body:\n",
    "    # list to store all content\n",
    "    content = []\n",
    "\n",
    "    # loop through table body\n",
    "    for tr in html_text:\n",
    "        # getting all th, td (titles and data)\n",
    "        th = tr.find_all(['th','td'])\n",
    "        # storing all th value in row and removing \".\" in Points\n",
    "        row = [i.text.replace(\".\",\"\") for i in th]\n",
    "        # append content \n",
    "        content.append(row)\n",
    "    \n",
    "    # create a dataframe:\n",
    "    df01 = pd.DataFrame(content[1:],columns=headings)\n",
    "    \n",
    "    # changing the column names:\n",
    "    df01 = df01.rename(columns={'Rang':'Ranking', 'Veränderung':'Ranking_Change', 'Name':'Players_Name',\n",
    "                                'Alter':'Age', 'Punkte':'Points', 'Turniere':'Tournaments'})\n",
    "    \n",
    "    # no Ranking_Change get the value 0:\n",
    "    df01[\"Ranking_Change\"].replace({\"\": \"0\"},inplace=True)\n",
    "    \n",
    "    # convert categorical data to numeric --> ints/floats:\n",
    "    df01.Ranking = df01.Ranking.astype(int)\n",
    "    df01.Ranking_Change = df01.Ranking_Change.astype(int)\n",
    "    df01.Age = df01.Age.astype(int)\n",
    "    df01.Points = df01.Points.astype(int)\n",
    "    df01.Tournaments = df01.Tournaments.astype(int)\n",
    "    \n",
    "    # date of today:\n",
    "    date_today = date.today()\n",
    "    \n",
    "    # save the dataframe as csv-file:\n",
    "    df01.to_csv(f\"{s}{date_today}.csv\",index=False)\n",
    "    \n",
    "    print(df01.head())\n",
    "    \n",
    "# create one csv-file of the two saved ones:\n",
    "df_men = pd.read_csv(f\"herren{date_today}.csv\")\n",
    "df_women = pd.read_csv(f\"der-damen{date_today}.csv\")\n",
    "\n",
    "# changing the column names to have individually ones:\n",
    "df_men = df_men.rename(columns={'Ranking':'Ranking_Men', 'Ranking_Change':'Ranking_Change_Men',\n",
    "                                'Players_Name':'Players_Name_Men','Age':'Age_Men', 'Points':'Points_Men',\n",
    "                                'Tournaments':'Tournaments_Men'})\n",
    "df_women = df_women.rename(columns={'Ranking':'Ranking_Women', 'Ranking_Change':'Ranking_Change_Women',\n",
    "                                'Players_Name':'Players_Name_Women','Age':'Age_Women', 'Points':'Points_Women',\n",
    "                                'Tournaments':'Tournaments_Women'})\n",
    "\n",
    "# putting the 2 files together and saving it:\n",
    "df_ges = pd.concat([df_men,df_women],axis=1)\n",
    "df_ges.to_csv(f\"Ranking{date_today}_all.csv\",index=False)\n"
   ]
  },
  {
   "cell_type": "code",
   "execution_count": null,
   "id": "2cd067ac",
   "metadata": {},
   "outputs": [],
   "source": [
    "df_men"
   ]
  },
  {
   "cell_type": "code",
   "execution_count": null,
   "id": "e628b134",
   "metadata": {},
   "outputs": [],
   "source": [
    "df_women"
   ]
  },
  {
   "cell_type": "code",
   "execution_count": null,
   "id": "e4b48d8a",
   "metadata": {},
   "outputs": [],
   "source": [
    "df_ges"
   ]
  }
 ],
 "metadata": {
  "kernelspec": {
   "display_name": "Python 3 (ipykernel)",
   "language": "python",
   "name": "python3"
  },
  "language_info": {
   "codemirror_mode": {
    "name": "ipython",
    "version": 3
   },
   "file_extension": ".py",
   "mimetype": "text/x-python",
   "name": "python",
   "nbconvert_exporter": "python",
   "pygments_lexer": "ipython3",
   "version": "3.10.13"
  }
 },
 "nbformat": 4,
 "nbformat_minor": 5
}
